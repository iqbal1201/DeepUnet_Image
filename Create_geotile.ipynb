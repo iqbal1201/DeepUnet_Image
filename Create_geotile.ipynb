{
 "cells": [
  {
   "cell_type": "markdown",
   "metadata": {},
   "source": [
    "## Create Geotile\n",
    "Geotile is the process to convert the image and its label (mask) into chunks so that deep learning model can learn through it. The conversion of this format can be done using Geotile library. Read the documentation here: https://geotile.readthedocs.io/en/latest/pages/basic.html"
   ]
  },
  {
   "cell_type": "code",
   "execution_count": 1,
   "metadata": {},
   "outputs": [],
   "source": [
    "from geotile import GeoTile"
   ]
  },
  {
   "cell_type": "markdown",
   "metadata": {},
   "source": [
    "Read the image. This project uses Sentinel 2 imagery with RGB channels/bands"
   ]
  },
  {
   "cell_type": "code",
   "execution_count": 3,
   "metadata": {},
   "outputs": [],
   "source": [
    "image_gt = GeoTile(r\"D:\\Wilmar\\Imagery_training\\Imagery_training\\ImageTraining_Riau_1.tif\")"
   ]
  },
  {
   "cell_type": "markdown",
   "metadata": {},
   "source": [
    "Check the image height and width"
   ]
  },
  {
   "cell_type": "code",
   "execution_count": 4,
   "metadata": {},
   "outputs": [
    {
     "data": {
      "text/plain": [
       "(10980, 10980)"
      ]
     },
     "execution_count": 4,
     "metadata": {},
     "output_type": "execute_result"
    }
   ],
   "source": [
    "image_gt.height, image_gt.width"
   ]
  },
  {
   "cell_type": "markdown",
   "metadata": {},
   "source": [
    "Check the metadata of image"
   ]
  },
  {
   "cell_type": "code",
   "execution_count": 5,
   "metadata": {},
   "outputs": [
    {
     "data": {
      "text/plain": [
       "{'driver': 'GTiff',\n",
       " 'dtype': 'uint8',\n",
       " 'nodata': None,\n",
       " 'width': 10980,\n",
       " 'height': 10980,\n",
       " 'count': 3,\n",
       " 'crs': CRS.from_epsg(32647),\n",
       " 'transform': Affine(10.0, 0.0, 600000.0,\n",
       "        0.0, -10.0, 100020.0)}"
      ]
     },
     "execution_count": 5,
     "metadata": {},
     "output_type": "execute_result"
    }
   ],
   "source": [
    "image_gt.meta"
   ]
  },
  {
   "cell_type": "markdown",
   "metadata": {},
   "source": [
    "Generate the image tile"
   ]
  },
  {
   "cell_type": "code",
   "execution_count": 11,
   "metadata": {},
   "outputs": [],
   "source": [
    "image_gt.generate_tiles(output_folder=r'D:\\Self_project\\imagery_deeplearning\\data\\data_model\\train_data\\train_img', tile_x=256, tile_y=256, stride_x=128, stride_y=128)"
   ]
  },
  {
   "cell_type": "markdown",
   "metadata": {},
   "source": [
    "Create the label/mask from shapefile. First initiate thee GeoTile class based on the imagery to get the imagery metadata."
   ]
  },
  {
   "cell_type": "code",
   "execution_count": 13,
   "metadata": {},
   "outputs": [],
   "source": [
    "from geotile import GeoTile\n",
    "image_gt = GeoTile(r\"D:\\Self_project\\imagery_deeplearning\\data\\raw\\Imagery_Training.tif\")\n",
    "\n",
    "# generate shapefile mask\n",
    "image_gt.mask(r\"D:\\Self_project\\imagery_deeplearning\\data\\raw\\Label_sawit.shp\", r\"D:\\Self_project\\imagery_deeplearning\\data\\raw\\mask.tif\")"
   ]
  },
  {
   "cell_type": "markdown",
   "metadata": {},
   "source": [
    "Create geotile for the mask"
   ]
  },
  {
   "cell_type": "code",
   "execution_count": 2,
   "metadata": {},
   "outputs": [],
   "source": [
    "mask_gt = GeoTile(r\"D:\\Wilmar\\Imagery_training\\Imagery_training\\Mask_Riau_1.tif\")\n",
    "\n",
    "# Generate the mask tile\n",
    "mask_gt.generate_tiles(output_folder=r'D:\\Self_project\\imagery_deeplearning\\data\\data_model\\train_data\\train_label', tile_x=256, tile_y=256, stride_x=128, stride_y=128)"
   ]
  }
 ],
 "metadata": {
  "kernelspec": {
   "display_name": "Imagery-dl (base)",
   "language": "python",
   "name": "imagery-dl"
  },
  "language_info": {
   "codemirror_mode": {
    "name": "ipython",
    "version": 3
   },
   "file_extension": ".py",
   "mimetype": "text/x-python",
   "name": "python",
   "nbconvert_exporter": "python",
   "pygments_lexer": "ipython3",
   "version": "3.9.19"
  }
 },
 "nbformat": 4,
 "nbformat_minor": 2
}
